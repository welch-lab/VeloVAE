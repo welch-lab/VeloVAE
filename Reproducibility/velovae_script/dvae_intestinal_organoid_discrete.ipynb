{
 "cells": [
  {
   "cell_type": "code",
   "execution_count": 1,
   "id": "d18622f9",
   "metadata": {},
   "outputs": [],
   "source": [
    "import anndata\n",
    "import numpy as np\n",
    "import sys\n",
    "import torch\n",
    "sys.path.append('../../../../')\n",
    "import velovae as vv\n",
    "%load_ext autoreload\n",
    "%autoreload 2"
   ]
  },
  {
   "cell_type": "code",
   "execution_count": 2,
   "id": "a6ca98d7",
   "metadata": {},
   "outputs": [],
   "source": [
    "dataset = 'IO_EU'\n",
    "root = '/scratch/blaauw_root/blaauw1/gyichen'\n",
    "adata = anndata.read_h5ad(f'{root}/data/{dataset}_pp.h5ad')\n",
    "#adata = anndata.read_h5ad(f'/nfs/turbo/umms-welchjd/yichen/data/scRNA/{dataset}/intestinal_orgnoid.h5ad')"
   ]
  },
  {
   "cell_type": "code",
   "execution_count": null,
   "id": "6eccf346",
   "metadata": {},
   "outputs": [],
   "source": [
    "# vv.preprocess(adata, n_gene=2000, min_shared_counts=20)"
   ]
  },
  {
   "cell_type": "code",
   "execution_count": 3,
   "id": "5762320d",
   "metadata": {},
   "outputs": [],
   "source": [
    "model_path_base = f'{root}/checkpoints/{dataset}'\n",
    "figure_path_base = f'{root}/figures/{dataset}'\n",
    "data_path = f'{root}/data/velovae/discrete/{dataset}'\n",
    "gene_plot = ['Lgr5', 'Apoa1', 'Dgat1', 'Gsta4']"
   ]
  },
  {
   "cell_type": "markdown",
   "id": "5fecab35",
   "metadata": {},
   "source": [
    "# Discrete VeloVAE"
   ]
  },
  {
   "cell_type": "code",
   "execution_count": 4,
   "id": "2e9719f6",
   "metadata": {},
   "outputs": [
    {
     "name": "stdout",
     "output_type": "stream",
     "text": [
      "Detecting zero scaling factors: 0, 0\n",
      "Estimating ODE parameters...\n"
     ]
    },
    {
     "data": {
      "application/vnd.jupyter.widget-view+json": {
       "model_id": "7bf9994c36da4d7cbfe65de1f9d9e5ab",
       "version_major": 2,
       "version_minor": 0
      },
      "text/plain": [
       "  0%|          | 0/1000 [00:00<?, ?it/s]"
      ]
     },
     "metadata": {},
     "output_type": "display_data"
    },
    {
     "name": "stdout",
     "output_type": "stream",
     "text": [
      "Detected 200 velocity genes.\n",
      "Estimating the variance...\n"
     ]
    },
    {
     "data": {
      "application/vnd.jupyter.widget-view+json": {
       "model_id": "0edb56c29d7d4bff8eeca134bfbee8fc",
       "version_major": 2,
       "version_minor": 0
      },
      "text/plain": [
       "  0%|          | 0/1000 [00:00<?, ?it/s]"
      ]
     },
     "metadata": {},
     "output_type": "display_data"
    },
    {
     "name": "stdout",
     "output_type": "stream",
     "text": [
      "Initialization using the steady-state and dynamical models.\n",
      "Reinitialize the regular ODE parameters based on estimated global latent time.\n"
     ]
    },
    {
     "data": {
      "application/vnd.jupyter.widget-view+json": {
       "model_id": "efa6edca3a0e4b1a9961ae0535a5d0c8",
       "version_major": 2,
       "version_minor": 0
      },
      "text/plain": [
       "  0%|          | 0/1000 [00:00<?, ?it/s]"
      ]
     },
     "metadata": {},
     "output_type": "display_data"
    },
    {
     "name": "stdout",
     "output_type": "stream",
     "text": [
      "3 clusters detected based on gene co-expression.\n",
      "(0.48, 0.8095944335075349), (0.52, 0.30003896625133036)\n",
      "(0.36, 0.35530083678956176), (0.64, 0.8420760207313772)\n",
      "KS-test result: [0. 0. 1.]\n",
      "Initial induction: 720, repression: 280/1000\n",
      "Learning Rate based on Data Sparsity: 0.0004\n",
      "--------------------------- Train a VeloVAE ---------------------------\n",
      "*********        Creating Training/Validation Datasets        *********\n",
      "*********                      Finished.                      *********\n",
      "*********                 Creating optimizers                 *********\n",
      "*********                      Finished.                      *********\n",
      "*********                    Start training                   *********\n",
      "*********                      Stage  1                       *********\n",
      "Total Number of Iterations Per Epoch: 21, test iteration: 40\n",
      "*********       Stage 1: Early Stop Triggered at epoch 536.       *********\n",
      "*********                      Stage  2                       *********\n",
      "*********             Velocity Refinement Round 1             *********\n"
     ]
    },
    {
     "data": {
      "application/vnd.jupyter.widget-view+json": {
       "model_id": "4f71a23b523b4ef0ba56ba9921f0b20a",
       "version_major": 2,
       "version_minor": 0
      },
      "text/plain": [
       "  0%|          | 0/3806 [00:00<?, ?it/s]"
      ]
     },
     "metadata": {},
     "output_type": "display_data"
    },
    {
     "name": "stdout",
     "output_type": "stream",
     "text": [
      "Percentage of Invalid Sets: 0.032\n",
      "Average Set Size: 76\n",
      "*********     Round 1: Early Stop Triggered at epoch 1011.    *********\n",
      "*********             Velocity Refinement Round 2             *********\n",
      "*********     Round 2: Early Stop Triggered at epoch 1038.    *********\n",
      "Change in x0: 0.1793\n",
      "*********             Velocity Refinement Round 3             *********\n",
      "Change in x0: 0.0690\n",
      "*********             Velocity Refinement Round 4             *********\n",
      "*********     Round 4: Early Stop Triggered at epoch 1679.    *********\n",
      "Change in x0: 0.0684\n",
      "*********             Velocity Refinement Round 5             *********\n",
      "Stage 2: Early Stop Triggered at round 4.\n",
      "*********              Finished. Total Time =   0 h :  7 m : 57 s             *********\n",
      "Final: Train ELBO = -887.148,\tTest ELBO = -915.115\n"
     ]
    }
   ],
   "source": [
    "figure_path = f'{figure_path_base}/Discrete_VeloVAE'\n",
    "model_path = f'{model_path_base}/Discrete_VeloVAE'\n",
    "\n",
    "torch.manual_seed(2022)\n",
    "np.random.seed(2022)\n",
    "dvae = vv.VAE(adata, \n",
    "              tmax=20, \n",
    "              dim_z=5, \n",
    "              device='cuda:0',\n",
    "              discrete=True)\n",
    "\n",
    "dvae.train(adata, plot=False, gene_plot=gene_plot, figure_path=figure_path)\n",
    "\n",
    "dvae.save_model(model_path, 'encoder', 'decoder')\n",
    "dvae.save_anndata(adata, 'dvae', data_path, file_name=f'{dataset}.h5ad')"
   ]
  },
  {
   "cell_type": "markdown",
   "id": "8dc4e543",
   "metadata": {},
   "source": [
    "# Discrete Full VB"
   ]
  },
  {
   "cell_type": "code",
   "execution_count": 5,
   "id": "adfe8dec",
   "metadata": {},
   "outputs": [
    {
     "name": "stdout",
     "output_type": "stream",
     "text": [
      "Detecting zero scaling factors: 0, 0\n",
      "Estimating ODE parameters...\n"
     ]
    },
    {
     "data": {
      "application/vnd.jupyter.widget-view+json": {
       "model_id": "70d1915efb51429282288d0ae4946a1a",
       "version_major": 2,
       "version_minor": 0
      },
      "text/plain": [
       "  0%|          | 0/1000 [00:00<?, ?it/s]"
      ]
     },
     "metadata": {},
     "output_type": "display_data"
    },
    {
     "name": "stdout",
     "output_type": "stream",
     "text": [
      "Detected 200 velocity genes.\n",
      "Estimating the variance...\n"
     ]
    },
    {
     "data": {
      "application/vnd.jupyter.widget-view+json": {
       "model_id": "254b2bd8b572459fa3c35ed7c850ebc4",
       "version_major": 2,
       "version_minor": 0
      },
      "text/plain": [
       "  0%|          | 0/1000 [00:00<?, ?it/s]"
      ]
     },
     "metadata": {},
     "output_type": "display_data"
    },
    {
     "name": "stdout",
     "output_type": "stream",
     "text": [
      "Initialization using the steady-state and dynamical models.\n",
      "Reinitialize the regular ODE parameters based on estimated global latent time.\n"
     ]
    },
    {
     "data": {
      "application/vnd.jupyter.widget-view+json": {
       "model_id": "a1eddfcd63714802a67e5dc3bfcb0e17",
       "version_major": 2,
       "version_minor": 0
      },
      "text/plain": [
       "  0%|          | 0/1000 [00:00<?, ?it/s]"
      ]
     },
     "metadata": {},
     "output_type": "display_data"
    },
    {
     "name": "stdout",
     "output_type": "stream",
     "text": [
      "3 clusters detected based on gene co-expression.\n",
      "(0.48, 0.8095944335075349), (0.52, 0.30003896625133036)\n",
      "(0.36, 0.35530083678956176), (0.64, 0.8420760207313772)\n",
      "KS-test result: [0. 0. 1.]\n",
      "Initial induction: 720, repression: 280/1000\n",
      "Learning Rate based on Data Sparsity: 0.0004\n",
      "--------------------------- Train a VeloVAE ---------------------------\n",
      "*********        Creating Training/Validation Datasets        *********\n",
      "*********                      Finished.                      *********\n",
      "*********                 Creating optimizers                 *********\n",
      "*********                      Finished.                      *********\n",
      "*********                    Start training                   *********\n",
      "*********                      Stage  1                       *********\n",
      "Total Number of Iterations Per Epoch: 21, test iteration: 40\n",
      "*********       Stage 1: Early Stop Triggered at epoch 621.       *********\n",
      "*********                      Stage  2                       *********\n",
      "*********             Velocity Refinement Round 1             *********\n"
     ]
    },
    {
     "data": {
      "application/vnd.jupyter.widget-view+json": {
       "model_id": "8f33c74a69b14df89d513727c57f571f",
       "version_major": 2,
       "version_minor": 0
      },
      "text/plain": [
       "  0%|          | 0/3806 [00:00<?, ?it/s]"
      ]
     },
     "metadata": {},
     "output_type": "display_data"
    },
    {
     "name": "stdout",
     "output_type": "stream",
     "text": [
      "Percentage of Invalid Sets: 0.029\n",
      "Average Set Size: 76\n",
      "*********     Round 1: Early Stop Triggered at epoch 686.    *********\n",
      "*********             Velocity Refinement Round 2             *********\n",
      "*********     Round 2: Early Stop Triggered at epoch 805.    *********\n",
      "Change in x0: 0.2673\n",
      "*********             Velocity Refinement Round 3             *********\n",
      "*********     Round 3: Early Stop Triggered at epoch 838.    *********\n",
      "Change in x0: 0.1114\n",
      "*********             Velocity Refinement Round 4             *********\n",
      "*********     Round 4: Early Stop Triggered at epoch 867.    *********\n",
      "Change in x0: 0.0738\n",
      "*********             Velocity Refinement Round 5             *********\n",
      "*********     Round 5: Early Stop Triggered at epoch 885.    *********\n",
      "Change in x0: 0.0652\n",
      "*********             Velocity Refinement Round 6             *********\n",
      "Stage 2: Early Stop Triggered at round 5.\n",
      "*********              Finished. Total Time =   0 h :  5 m :  7 s             *********\n",
      "Final: Train ELBO = -915.721,\tTest ELBO = -944.851\n"
     ]
    }
   ],
   "source": [
    "figure_path = f'{figure_path_base}/discrete'\n",
    "model_path = f'{model_path_base}/discrete'\n",
    "\n",
    "torch.manual_seed(2022)\n",
    "np.random.seed(2022)\n",
    "full_vb = vv.VAE(adata, \n",
    "                 tmax=20, \n",
    "                 dim_z=5, \n",
    "                 device='cuda:0',\n",
    "                 discrete=True,\n",
    "                 full_vb=True)\n",
    "\n",
    "full_vb.train(adata, plot=False, gene_plot=gene_plot, figure_path=figure_path)\n",
    "\n",
    "full_vb.save_model(model_path, 'encoder', 'decoder')\n",
    "full_vb.save_anndata(adata, 'dfullvb', data_path, file_name=f'{dataset}.h5ad')"
   ]
  },
  {
   "cell_type": "markdown",
   "id": "12a865a8",
   "metadata": {},
   "source": [
    "# Evaluation"
   ]
  },
  {
   "cell_type": "code",
   "execution_count": 6,
   "id": "4c851923",
   "metadata": {
    "scrolled": false
   },
   "outputs": [
    {
     "name": "stdout",
     "output_type": "stream",
     "text": [
      "---   Plotting  Results   ---\n",
      "computing velocity graph (using 1/32 cores)\n"
     ]
    },
    {
     "data": {
      "application/vnd.jupyter.widget-view+json": {
       "model_id": "7752399531074fbfb6dd318eac88f9dc",
       "version_major": 2,
       "version_minor": 0
      },
      "text/plain": [
       "  0%|          | 0/3806 [00:00<?, ?cells/s]"
      ]
     },
     "metadata": {},
     "output_type": "display_data"
    },
    {
     "name": "stdout",
     "output_type": "stream",
     "text": [
      "    finished (0:00:11) --> added \n",
      "    'dvae_velocity_graph', sparse matrix with cosine correlations (adata.uns)\n",
      "computing velocity embedding\n",
      "    finished (0:00:00) --> added\n",
      "    'dvae_velocity_umap', embedded velocity vectors (adata.obsm)\n",
      "saving figure to file /scratch/blaauw_root/blaauw1/gyichen/figures/IO_EU/eval_dvae_stream.png\n",
      "computing velocity graph (using 1/32 cores)\n"
     ]
    },
    {
     "data": {
      "application/vnd.jupyter.widget-view+json": {
       "model_id": "30bb6309e5844852ab6e654b8963573e",
       "version_major": 2,
       "version_minor": 0
      },
      "text/plain": [
       "  0%|          | 0/3806 [00:00<?, ?cells/s]"
      ]
     },
     "metadata": {},
     "output_type": "display_data"
    },
    {
     "name": "stdout",
     "output_type": "stream",
     "text": [
      "    finished (0:00:11) --> added \n",
      "    'dfullvb_velocity_graph', sparse matrix with cosine correlations (adata.uns)\n",
      "computing velocity embedding\n",
      "    finished (0:00:00) --> added\n",
      "    'dfullvb_velocity_umap', embedded velocity vectors (adata.obsm)\n",
      "saving figure to file /scratch/blaauw_root/blaauw1/gyichen/figures/IO_EU/eval_dfullvb_stream.png\n"
     ]
    },
    {
     "data": {
      "text/plain": [
       "(None, None)"
      ]
     },
     "execution_count": 6,
     "metadata": {},
     "output_type": "execute_result"
    }
   ],
   "source": [
    "vv.post_analysis(adata,\n",
    "                 'eval',\n",
    "                 ['Discrete VeloVAE', 'Discrete FullVB'],\n",
    "                 ['dvae','dfullvb'],\n",
    "                 compute_metrics=False,\n",
    "                 genes=gene_plot,\n",
    "                 grid_size=(1,4),\n",
    "                 raw_count=True,\n",
    "                 figure_path=figure_path_base,\n",
    "                 sparsity_correction=True)"
   ]
  },
  {
   "cell_type": "code",
   "execution_count": null,
   "id": "2fcd24e5",
   "metadata": {},
   "outputs": [],
   "source": []
  }
 ],
 "metadata": {
  "kernelspec": {
   "display_name": "velo_env",
   "language": "python",
   "name": "velo_env"
  },
  "language_info": {
   "codemirror_mode": {
    "name": "ipython",
    "version": 3
   },
   "file_extension": ".py",
   "mimetype": "text/x-python",
   "name": "python",
   "nbconvert_exporter": "python",
   "pygments_lexer": "ipython3",
   "version": "3.9.0"
  }
 },
 "nbformat": 4,
 "nbformat_minor": 5
}
