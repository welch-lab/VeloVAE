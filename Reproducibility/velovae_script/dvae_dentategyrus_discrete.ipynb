{
 "cells": [
  {
   "cell_type": "code",
   "execution_count": 1,
   "id": "6001ddcd",
   "metadata": {},
   "outputs": [],
   "source": [
    "import anndata\n",
    "import numpy as np\n",
    "import sys\n",
    "import torch\n",
    "sys.path.append('../../../../')\n",
    "import velovae as vv"
   ]
  },
  {
   "cell_type": "code",
   "execution_count": 2,
   "id": "6c0739c9",
   "metadata": {},
   "outputs": [],
   "source": [
    "import scvelo as scv\n",
    "dataset = 'Dentategyrus'\n",
    "root = '/scratch/blaauw_root/blaauw1/gyichen'\n",
    "adata = anndata.read_h5ad(f'{root}/data/{dataset}_pp.h5ad')"
   ]
  },
  {
   "cell_type": "code",
   "execution_count": null,
   "id": "29524037",
   "metadata": {},
   "outputs": [],
   "source": [
    "# vv.preprocess(adata, n_gene=2000, min_shared_counts=20)"
   ]
  },
  {
   "cell_type": "code",
   "execution_count": 3,
   "id": "363bee15",
   "metadata": {},
   "outputs": [],
   "source": [
    "model_path_base = f'{root}/checkpoints/{dataset}'\n",
    "figure_path_base = f'{root}/figures/{dataset}'\n",
    "data_path = f'{root}/data/velovae/discrete/{dataset}'\n",
    "gene_plot = ['Tmsb10', 'Fam155a', 'Hn1', 'Rpl6']"
   ]
  },
  {
   "cell_type": "markdown",
   "id": "daef34b6",
   "metadata": {},
   "source": [
    "# VeloVAE"
   ]
  },
  {
   "cell_type": "code",
   "execution_count": 10,
   "id": "35faa53b",
   "metadata": {},
   "outputs": [
    {
     "name": "stdout",
     "output_type": "stream",
     "text": [
      "Detecting zero scaling factors: 0, 0\n",
      "Estimating ODE parameters...\n"
     ]
    },
    {
     "data": {
      "application/vnd.jupyter.widget-view+json": {
       "model_id": "8bd079f2f0db4a6eaddb9496c3407ccd",
       "version_major": 2,
       "version_minor": 0
      },
      "text/plain": [
       "  0%|          | 0/1000 [00:00<?, ?it/s]"
      ]
     },
     "metadata": {},
     "output_type": "display_data"
    },
    {
     "name": "stdout",
     "output_type": "stream",
     "text": [
      "Detected 255 velocity genes.\n",
      "Estimating the variance...\n"
     ]
    },
    {
     "data": {
      "application/vnd.jupyter.widget-view+json": {
       "model_id": "d2340400e604486ea12821d0af4629ec",
       "version_major": 2,
       "version_minor": 0
      },
      "text/plain": [
       "  0%|          | 0/1000 [00:00<?, ?it/s]"
      ]
     },
     "metadata": {},
     "output_type": "display_data"
    },
    {
     "name": "stdout",
     "output_type": "stream",
     "text": [
      "Initialization using the steady-state and dynamical models.\n",
      "Reinitialize the regular ODE parameters based on estimated global latent time.\n"
     ]
    },
    {
     "data": {
      "application/vnd.jupyter.widget-view+json": {
       "model_id": "cd397b3695da44e1b3ba0ef27f2ed5aa",
       "version_major": 2,
       "version_minor": 0
      },
      "text/plain": [
       "  0%|          | 0/1000 [00:00<?, ?it/s]"
      ]
     },
     "metadata": {},
     "output_type": "display_data"
    },
    {
     "name": "stdout",
     "output_type": "stream",
     "text": [
      "3 clusters detected based on gene co-expression.\n",
      "(0.53, 0.7940861417910453), (0.47, 0.2627669307941492)\n",
      "(0.49, 0.7775889478200321), (0.51, 0.2601876073663219)\n",
      "(0.30, 0.3421788138328361), (0.70, 0.8284624210566714)\n",
      "KS-test result: [0. 0. 0.]\n",
      "Initial induction: 602, repression: 398/1000\n",
      "Learning Rate based on Data Sparsity: 0.0004\n",
      "--------------------------- Train a VeloVAE ---------------------------\n",
      "*********        Creating Training/Validation Datasets        *********\n",
      "*********                      Finished.                      *********\n",
      "*********                 Creating optimizers                 *********\n",
      "*********                      Finished.                      *********\n",
      "*********                    Start training                   *********\n",
      "*********                      Stage  1                       *********\n",
      "Total Number of Iterations Per Epoch: 17, test iteration: 32\n",
      "*********                      Stage  2                       *********\n",
      "*********             Velocity Refinement Round 1             *********\n"
     ]
    },
    {
     "data": {
      "application/vnd.jupyter.widget-view+json": {
       "model_id": "79c4f051016540eea0c74ba126865f4b",
       "version_major": 2,
       "version_minor": 0
      },
      "text/plain": [
       "  0%|          | 0/2930 [00:00<?, ?it/s]"
      ]
     },
     "metadata": {},
     "output_type": "display_data"
    },
    {
     "name": "stdout",
     "output_type": "stream",
     "text": [
      "Percentage of Invalid Sets: 0.030\n",
      "Average Set Size: 59\n",
      "*********     Round 1: Early Stop Triggered at epoch 1252.    *********\n",
      "*********             Velocity Refinement Round 2             *********\n",
      "Change in x0: 0.2763\n",
      "*********             Velocity Refinement Round 3             *********\n",
      "*********     Round 3: Early Stop Triggered at epoch 1968.    *********\n",
      "Change in x0: 0.1523\n",
      "*********             Velocity Refinement Round 4             *********\n",
      "Change in x0: 0.0925\n",
      "*********             Velocity Refinement Round 5             *********\n",
      "*********     Round 5: Early Stop Triggered at epoch 2541.    *********\n",
      "Change in x0: 0.0884\n",
      "*********             Velocity Refinement Round 6             *********\n",
      "Stage 2: Early Stop Triggered at round 5.\n",
      "*********              Finished. Total Time =   0 h : 10 m :  4 s             *********\n",
      "Final: Train ELBO = -827.789,\tTest ELBO = -845.458\n"
     ]
    }
   ],
   "source": [
    "figure_path = f'{figure_path_base}/DVAE'\n",
    "model_path = f'{model_path_base}/DVAE'\n",
    "\n",
    "torch.manual_seed(2022)\n",
    "np.random.seed(2022)\n",
    "vae = vv.VAE(adata, \n",
    "             tmax=20, \n",
    "             dim_z=5, \n",
    "             device='cuda:0',\n",
    "             discrete=True)\n",
    "\n",
    "vae.train(adata, plot=False, gene_plot=gene_plot, figure_path=figure_path)\n",
    "\n",
    "vae.save_model(model_path, 'encoder', 'decoder')\n",
    "vae.save_anndata(adata, 'dvae', data_path, file_name=f'{dataset}.h5ad')"
   ]
  },
  {
   "cell_type": "markdown",
   "id": "b718d7ef",
   "metadata": {},
   "source": [
    "# Full VB"
   ]
  },
  {
   "cell_type": "code",
   "execution_count": 11,
   "id": "53c0efba",
   "metadata": {},
   "outputs": [
    {
     "name": "stdout",
     "output_type": "stream",
     "text": [
      "Detecting zero scaling factors: 0, 0\n",
      "Estimating ODE parameters...\n"
     ]
    },
    {
     "data": {
      "application/vnd.jupyter.widget-view+json": {
       "model_id": "3fd287e07900464d9c936cce75ab381d",
       "version_major": 2,
       "version_minor": 0
      },
      "text/plain": [
       "  0%|          | 0/1000 [00:00<?, ?it/s]"
      ]
     },
     "metadata": {},
     "output_type": "display_data"
    },
    {
     "name": "stdout",
     "output_type": "stream",
     "text": [
      "Detected 255 velocity genes.\n",
      "Estimating the variance...\n"
     ]
    },
    {
     "data": {
      "application/vnd.jupyter.widget-view+json": {
       "model_id": "f3b81e39071148358cbd3f3ac3d3efd0",
       "version_major": 2,
       "version_minor": 0
      },
      "text/plain": [
       "  0%|          | 0/1000 [00:00<?, ?it/s]"
      ]
     },
     "metadata": {},
     "output_type": "display_data"
    },
    {
     "name": "stdout",
     "output_type": "stream",
     "text": [
      "Initialization using the steady-state and dynamical models.\n",
      "Reinitialize the regular ODE parameters based on estimated global latent time.\n"
     ]
    },
    {
     "data": {
      "application/vnd.jupyter.widget-view+json": {
       "model_id": "114a6fafaa864c22a864c4b94171d557",
       "version_major": 2,
       "version_minor": 0
      },
      "text/plain": [
       "  0%|          | 0/1000 [00:00<?, ?it/s]"
      ]
     },
     "metadata": {},
     "output_type": "display_data"
    },
    {
     "name": "stdout",
     "output_type": "stream",
     "text": [
      "3 clusters detected based on gene co-expression.\n",
      "(0.53, 0.7940861417910453), (0.47, 0.2627669307941492)\n",
      "(0.49, 0.7775889478200321), (0.51, 0.2601876073663219)\n",
      "(0.30, 0.3421788138328361), (0.70, 0.8284624210566714)\n",
      "KS-test result: [0. 0. 0.]\n",
      "Initial induction: 602, repression: 398/1000\n",
      "Learning Rate based on Data Sparsity: 0.0004\n",
      "--------------------------- Train a VeloVAE ---------------------------\n",
      "*********        Creating Training/Validation Datasets        *********\n",
      "*********                      Finished.                      *********\n",
      "*********                 Creating optimizers                 *********\n",
      "*********                      Finished.                      *********\n",
      "*********                    Start training                   *********\n",
      "*********                      Stage  1                       *********\n",
      "Total Number of Iterations Per Epoch: 17, test iteration: 32\n",
      "*********       Stage 1: Early Stop Triggered at epoch 816.       *********\n",
      "*********                      Stage  2                       *********\n",
      "*********             Velocity Refinement Round 1             *********\n"
     ]
    },
    {
     "data": {
      "application/vnd.jupyter.widget-view+json": {
       "model_id": "4b86aca5098a4ff781c3a73d074794bb",
       "version_major": 2,
       "version_minor": 0
      },
      "text/plain": [
       "  0%|          | 0/2930 [00:00<?, ?it/s]"
      ]
     },
     "metadata": {},
     "output_type": "display_data"
    },
    {
     "name": "stdout",
     "output_type": "stream",
     "text": [
      "Percentage of Invalid Sets: 0.030\n",
      "Average Set Size: 60\n",
      "*********     Round 1: Early Stop Triggered at epoch 939.    *********\n",
      "*********             Velocity Refinement Round 2             *********\n",
      "*********     Round 2: Early Stop Triggered at epoch 1107.    *********\n",
      "Change in x0: 0.3256\n",
      "*********             Velocity Refinement Round 3             *********\n",
      "*********     Round 3: Early Stop Triggered at epoch 1149.    *********\n",
      "Change in x0: 0.2299\n",
      "*********             Velocity Refinement Round 4             *********\n",
      "*********     Round 4: Early Stop Triggered at epoch 1496.    *********\n",
      "Change in x0: 0.1440\n",
      "*********             Velocity Refinement Round 5             *********\n",
      "*********     Round 5: Early Stop Triggered at epoch 1640.    *********\n",
      "Change in x0: 0.1321\n",
      "*********             Velocity Refinement Round 6             *********\n",
      "*********     Round 6: Early Stop Triggered at epoch 1667.    *********\n",
      "Change in x0: 0.1116\n",
      "*********             Velocity Refinement Round 7             *********\n",
      "*********     Round 7: Early Stop Triggered at epoch 1745.    *********\n",
      "Change in x0: 0.1087\n",
      "*********             Velocity Refinement Round 8             *********\n",
      "Stage 2: Early Stop Triggered at round 7.\n",
      "*********              Finished. Total Time =   0 h :  8 m :  4 s             *********\n",
      "Final: Train ELBO = -932.132,\tTest ELBO = -933.822\n"
     ]
    }
   ],
   "source": [
    "figure_path = f'{figure_path_base}/DFullVB'\n",
    "model_path = f'{model_path_base}/DFullVB'\n",
    "\n",
    "torch.manual_seed(2022)\n",
    "np.random.seed(2022)\n",
    "full_vb = vv.VAE(adata, \n",
    "                 tmax=20, \n",
    "                 dim_z=5, \n",
    "                 device='cuda:0',\n",
    "                 discrete=True,\n",
    "                 full_vb=True)\n",
    "\n",
    "full_vb.train(adata, plot=False, gene_plot=gene_plot, figure_path=figure_path)\n",
    "\n",
    "full_vb.save_model(model_path, 'encoder', 'decoder')\n",
    "full_vb.save_anndata(adata, 'dfullvb', data_path, file_name=f'{dataset}.h5ad')"
   ]
  },
  {
   "cell_type": "markdown",
   "id": "f16f8f94",
   "metadata": {},
   "source": [
    "# Evaluation"
   ]
  },
  {
   "cell_type": "code",
   "execution_count": 12,
   "id": "f199ebfc",
   "metadata": {},
   "outputs": [
    {
     "name": "stdout",
     "output_type": "stream",
     "text": [
      "---   Plotting  Results   ---\n",
      "saving figure to file /scratch/blaauw_root/blaauw1/gyichen/figures/Dentategyrus/eval_dvae_stream.png\n",
      "saving figure to file /scratch/blaauw_root/blaauw1/gyichen/figures/Dentategyrus/eval_dfullvb_stream.png\n"
     ]
    },
    {
     "data": {
      "text/plain": [
       "(None, None)"
      ]
     },
     "execution_count": 12,
     "metadata": {},
     "output_type": "execute_result"
    }
   ],
   "source": [
    "vv.post_analysis(adata,\n",
    "                 'eval',\n",
    "                 ['Discrete VeloVAE','Discrete FullVB'],\n",
    "                 ['dvae','dfullvb'],\n",
    "                 compute_metrics=False,\n",
    "                 raw_count=True,\n",
    "                 genes=gene_plot,\n",
    "                 grid_size=(1,4),\n",
    "                 figure_path=figure_path_base)"
   ]
  }
 ],
 "metadata": {
  "kernelspec": {
   "display_name": "velo_env",
   "language": "python",
   "name": "velo_env"
  },
  "language_info": {
   "codemirror_mode": {
    "name": "ipython",
    "version": 3
   },
   "file_extension": ".py",
   "mimetype": "text/x-python",
   "name": "python",
   "nbconvert_exporter": "python",
   "pygments_lexer": "ipython3",
   "version": "3.9.0"
  }
 },
 "nbformat": 4,
 "nbformat_minor": 5
}
