{
 "cells": [
  {
   "cell_type": "code",
   "execution_count": 1,
   "id": "0bc80261",
   "metadata": {},
   "outputs": [],
   "source": [
    "import anndata\n",
    "import numpy as np\n",
    "import sys\n",
    "import torch\n",
    "sys.path.append('../../../')\n",
    "import velovae as vv"
   ]
  },
  {
   "cell_type": "code",
   "execution_count": 2,
   "id": "d130b785",
   "metadata": {},
   "outputs": [],
   "source": [
    "dataset = 'Braindev'\n",
    "root = \"/scratch/blaauw_root/blaauw1/gyichen\"\n",
    "adata = anndata.read_h5ad(f'{root}/data/Braindev_pp.h5ad')\n",
    "#adata = anndata.read_h5ad(f'{root}/data/velovae/continuous/Braindev/Braindev.h5ad')\n",
    "adata.obs['clusters'] = adata.obs['Class'].to_numpy()"
   ]
  },
  {
   "cell_type": "code",
   "execution_count": null,
   "id": "02b1117a",
   "metadata": {},
   "outputs": [],
   "source": [
    "vv.preprocess(adata, n_gene=1000, min_shared_counts=20, compute_umap=True, keep_raw=True)"
   ]
  },
  {
   "cell_type": "code",
   "execution_count": 3,
   "id": "c4313cc6",
   "metadata": {},
   "outputs": [],
   "source": [
    "model_path_base = f'{root}/checkpoints/{dataset}'\n",
    "figure_path_base = f'{root}/figures/{dataset}'\n",
    "data_path = f'{root}/data/velovae/discrete/{dataset}'\n",
    "gene_plot = ['Mapt', 'Tmsb10', 'Fabp7', 'Npm1']"
   ]
  },
  {
   "cell_type": "markdown",
   "id": "8eba73f6",
   "metadata": {},
   "source": [
    "# Informative Time Prior"
   ]
  },
  {
   "cell_type": "code",
   "execution_count": 4,
   "id": "8b7139b2",
   "metadata": {},
   "outputs": [],
   "source": [
    "capture_time = adata.obs['Age'].to_numpy()\n",
    "tprior = np.array([float(x[1:]) for x in capture_time])\n",
    "adata.obs['tprior'] = tprior"
   ]
  },
  {
   "cell_type": "markdown",
   "id": "80c843d6",
   "metadata": {},
   "source": [
    "## Discrete VAE"
   ]
  },
  {
   "cell_type": "code",
   "execution_count": 6,
   "id": "2e4648e6",
   "metadata": {},
   "outputs": [
    {
     "name": "stdout",
     "output_type": "stream",
     "text": [
      "Detecting zero scaling factors: 5, 0\n",
      "Estimating ODE parameters...\n"
     ]
    },
    {
     "data": {
      "application/vnd.jupyter.widget-view+json": {
       "model_id": "07a7eb6166174ce19bb4bfd4339f7da2",
       "version_major": 2,
       "version_minor": 0
      },
      "text/plain": [
       "  0%|          | 0/2000 [00:00<?, ?it/s]"
      ]
     },
     "metadata": {},
     "output_type": "display_data"
    },
    {
     "name": "stdout",
     "output_type": "stream",
     "text": [
      "Detected 1218 velocity genes.\n",
      "Estimating the variance...\n"
     ]
    },
    {
     "data": {
      "application/vnd.jupyter.widget-view+json": {
       "model_id": "7466769ebf0941c9a3cc164d6956c66c",
       "version_major": 2,
       "version_minor": 0
      },
      "text/plain": [
       "  0%|          | 0/2000 [00:00<?, ?it/s]"
      ]
     },
     "metadata": {},
     "output_type": "display_data"
    },
    {
     "name": "stdout",
     "output_type": "stream",
     "text": [
      "Initialization using prior time.\n",
      "Reinitialize the regular ODE parameters based on estimated global latent time.\n"
     ]
    },
    {
     "data": {
      "application/vnd.jupyter.widget-view+json": {
       "model_id": "e385726d540c45b398856b82809f10cb",
       "version_major": 2,
       "version_minor": 0
      },
      "text/plain": [
       "  0%|          | 0/2000 [00:00<?, ?it/s]"
      ]
     },
     "metadata": {},
     "output_type": "display_data"
    },
    {
     "name": "stdout",
     "output_type": "stream",
     "text": [
      "Initial induction: 1733, repression: 267/2000\n",
      "Using informative time prior.\n",
      "Learning Rate based on Data Sparsity: 0.0009\n",
      "--------------------------- Train a VeloVAE ---------------------------\n",
      "*********        Creating Training/Validation Datasets        *********\n",
      "*********                      Finished.                      *********\n",
      "*********                 Creating optimizers                 *********\n",
      "*********                      Finished.                      *********\n",
      "*********                    Start training                   *********\n",
      "*********                      Stage  1                       *********\n",
      "Total Number of Iterations Per Epoch: 164, test iteration: 326\n",
      "*********                      Stage  2                       *********\n",
      "*********             Velocity Refinement Round 1             *********\n"
     ]
    },
    {
     "data": {
      "application/vnd.jupyter.widget-view+json": {
       "model_id": "b600477571384500903af334e63035f2",
       "version_major": 2,
       "version_minor": 0
      },
      "text/plain": [
       "  0%|          | 0/29948 [00:00<?, ?it/s]"
      ]
     },
     "metadata": {},
     "output_type": "display_data"
    },
    {
     "name": "stdout",
     "output_type": "stream",
     "text": [
      "Percentage of Invalid Sets: 0.028\n",
      "Average Set Size: 603\n",
      "*********     Round 1: Early Stop Triggered at epoch 1279.    *********\n",
      "*********             Velocity Refinement Round 2             *********\n",
      "*********     Round 2: Early Stop Triggered at epoch 1731.    *********\n",
      "Change in x0: 0.1918\n",
      "*********             Velocity Refinement Round 3             *********\n",
      "*********     Round 3: Early Stop Triggered at epoch 1811.    *********\n",
      "Change in x0: 0.1339\n",
      "*********             Velocity Refinement Round 4             *********\n",
      "Change in x0: 0.1235\n",
      "*********             Velocity Refinement Round 5             *********\n",
      "*********     Round 5: Early Stop Triggered at epoch 2348.    *********\n",
      "Change in x0: 0.1262\n",
      "*********             Velocity Refinement Round 6             *********\n",
      "Stage 2: Early Stop Triggered at round 5.\n",
      "*********              Finished. Total Time =   1 h : 36 m : 26 s             *********\n",
      "Final: Train ELBO = -1256.971,\tTest ELBO = -1272.793\n"
     ]
    }
   ],
   "source": [
    "figure_path = f'{figure_path_base}/DVAE'\n",
    "model_path = f'{model_path_base}/DVAE'\n",
    "\n",
    "\n",
    "torch.manual_seed(2022)\n",
    "np.random.seed(2022)\n",
    "\n",
    "dvae = vv.VAE(adata, \n",
    "              tmax=20, \n",
    "              dim_z=5, \n",
    "              device='cuda:0',\n",
    "              init_method='tprior',\n",
    "              init_key='tprior',\n",
    "              tprior='tprior',\n",
    "              discrete=True,\n",
    "              init_ton_zero=False)\n",
    "\n",
    "dvae.train(adata, plot=False, gene_plot=gene_plot, figure_path=figure_path)\n",
    "\n",
    "dvae.save_model(model_path, 'encoder', 'decoder')\n",
    "dvae.save_anndata(adata, 'dvae', data_path, f'{dataset}.h5ad')"
   ]
  },
  {
   "cell_type": "markdown",
   "id": "eb84f68a",
   "metadata": {},
   "source": [
    "# Discrete FullVB"
   ]
  },
  {
   "cell_type": "code",
   "execution_count": 7,
   "id": "23791e45",
   "metadata": {},
   "outputs": [
    {
     "name": "stdout",
     "output_type": "stream",
     "text": [
      "Detecting zero scaling factors: 5, 0\n",
      "Estimating ODE parameters...\n"
     ]
    },
    {
     "data": {
      "application/vnd.jupyter.widget-view+json": {
       "model_id": "bf632a926c1b4b20ba53abffefbdb0b1",
       "version_major": 2,
       "version_minor": 0
      },
      "text/plain": [
       "  0%|          | 0/2000 [00:00<?, ?it/s]"
      ]
     },
     "metadata": {},
     "output_type": "display_data"
    },
    {
     "name": "stdout",
     "output_type": "stream",
     "text": [
      "Detected 1218 velocity genes.\n",
      "Estimating the variance...\n"
     ]
    },
    {
     "data": {
      "application/vnd.jupyter.widget-view+json": {
       "model_id": "6cb9b5eb35244e0b8f01d3c03f0042a1",
       "version_major": 2,
       "version_minor": 0
      },
      "text/plain": [
       "  0%|          | 0/2000 [00:00<?, ?it/s]"
      ]
     },
     "metadata": {},
     "output_type": "display_data"
    },
    {
     "name": "stdout",
     "output_type": "stream",
     "text": [
      "Initialization using prior time.\n",
      "Reinitialize the regular ODE parameters based on estimated global latent time.\n"
     ]
    },
    {
     "data": {
      "application/vnd.jupyter.widget-view+json": {
       "model_id": "a6a916c5fdca412d9edd3e009170ee97",
       "version_major": 2,
       "version_minor": 0
      },
      "text/plain": [
       "  0%|          | 0/2000 [00:00<?, ?it/s]"
      ]
     },
     "metadata": {},
     "output_type": "display_data"
    },
    {
     "name": "stdout",
     "output_type": "stream",
     "text": [
      "Initial induction: 1733, repression: 267/2000\n",
      "Using informative time prior.\n",
      "Learning Rate based on Data Sparsity: 0.0009\n",
      "--------------------------- Train a VeloVAE ---------------------------\n",
      "*********        Creating Training/Validation Datasets        *********\n",
      "*********                      Finished.                      *********\n",
      "*********                 Creating optimizers                 *********\n",
      "*********                      Finished.                      *********\n",
      "*********                    Start training                   *********\n",
      "*********                      Stage  1                       *********\n",
      "Total Number of Iterations Per Epoch: 164, test iteration: 326\n",
      "*********       Stage 1: Early Stop Triggered at epoch 750.       *********\n",
      "*********                      Stage  2                       *********\n",
      "*********             Velocity Refinement Round 1             *********\n"
     ]
    },
    {
     "data": {
      "application/vnd.jupyter.widget-view+json": {
       "model_id": "98f4c84592a341f3b81c8e4b6d5cc798",
       "version_major": 2,
       "version_minor": 0
      },
      "text/plain": [
       "  0%|          | 0/29948 [00:00<?, ?it/s]"
      ]
     },
     "metadata": {},
     "output_type": "display_data"
    },
    {
     "name": "stdout",
     "output_type": "stream",
     "text": [
      "Percentage of Invalid Sets: 0.028\n",
      "Average Set Size: 602\n",
      "*********     Round 1: Early Stop Triggered at epoch 850.    *********\n",
      "*********             Velocity Refinement Round 2             *********\n",
      "*********     Round 2: Early Stop Triggered at epoch 946.    *********\n",
      "Change in x0: 0.1948\n",
      "*********             Velocity Refinement Round 3             *********\n",
      "*********     Round 3: Early Stop Triggered at epoch 1006.    *********\n",
      "Change in x0: 0.1368\n",
      "*********             Velocity Refinement Round 4             *********\n",
      "*********     Round 4: Early Stop Triggered at epoch 1142.    *********\n",
      "Change in x0: 0.1442\n",
      "*********             Velocity Refinement Round 5             *********\n",
      "Stage 2: Early Stop Triggered at round 4.\n",
      "*********              Finished. Total Time =   0 h : 53 m : 43 s             *********\n",
      "Final: Train ELBO = -1338.947,\tTest ELBO = -1346.175\n"
     ]
    }
   ],
   "source": [
    "figure_path = f'{figure_path_base}/DFullVB'\n",
    "model_path = f'{model_path_base}/DFullVB'\n",
    "\n",
    "torch.manual_seed(2022)\n",
    "np.random.seed(2022)\n",
    "dfullvb = vv.VAE(adata, \n",
    "                 tmax=20, \n",
    "                 dim_z=5, \n",
    "                 device='cuda:0',\n",
    "                 init_method='tprior',\n",
    "                 init_key='tprior',\n",
    "                 tprior='tprior',\n",
    "                 discrete=True,\n",
    "                 full_vb=True,\n",
    "                 init_ton_zero=False)\n",
    "\n",
    "dfullvb.train(adata, plot=False, gene_plot=gene_plot, figure_path=figure_path)\n",
    "\n",
    "dfullvb.save_model(model_path, 'encoder', 'decoder')\n",
    "dfullvb.save_anndata(adata, 'dfullvb', data_path, f'{dataset}.h5ad')"
   ]
  },
  {
   "cell_type": "markdown",
   "id": "79158389",
   "metadata": {},
   "source": [
    "# Evaluation"
   ]
  },
  {
   "cell_type": "code",
   "execution_count": 8,
   "id": "86a181c5",
   "metadata": {},
   "outputs": [
    {
     "name": "stdout",
     "output_type": "stream",
     "text": [
      "---   Plotting  Results   ---\n",
      "computing velocity graph (using 14/32 cores)\n"
     ]
    },
    {
     "data": {
      "application/vnd.jupyter.widget-view+json": {
       "model_id": "99ca355f1b38412396f860a22a912aed",
       "version_major": 2,
       "version_minor": 0
      },
      "text/plain": [
       "  0%|          | 0/29948 [00:00<?, ?cells/s]"
      ]
     },
     "metadata": {},
     "output_type": "display_data"
    },
    {
     "name": "stdout",
     "output_type": "stream",
     "text": [
      "    finished (0:01:20) --> added \n",
      "    'dvae_velocity_graph', sparse matrix with cosine correlations (adata.uns)\n",
      "computing velocity embedding\n",
      "    finished (0:00:08) --> added\n",
      "    'dvae_velocity_umap', embedded velocity vectors (adata.obsm)\n",
      "saving figure to file /scratch/blaauw_root/blaauw1/gyichen/figures/Braindev/eval_dvae_stream.png\n",
      "computing velocity graph (using 14/32 cores)\n"
     ]
    },
    {
     "data": {
      "application/vnd.jupyter.widget-view+json": {
       "model_id": "f456e84e95ee48598835a26d6f9d9402",
       "version_major": 2,
       "version_minor": 0
      },
      "text/plain": [
       "  0%|          | 0/29948 [00:00<?, ?cells/s]"
      ]
     },
     "metadata": {},
     "output_type": "display_data"
    },
    {
     "name": "stdout",
     "output_type": "stream",
     "text": [
      "    finished (0:01:06) --> added \n",
      "    'dfullvb_velocity_graph', sparse matrix with cosine correlations (adata.uns)\n",
      "computing velocity embedding\n",
      "    finished (0:00:08) --> added\n",
      "    'dfullvb_velocity_umap', embedded velocity vectors (adata.obsm)\n",
      "saving figure to file /scratch/blaauw_root/blaauw1/gyichen/figures/Braindev/eval_dfullvb_stream.png\n"
     ]
    },
    {
     "data": {
      "text/plain": [
       "(None, None)"
      ]
     },
     "execution_count": 8,
     "metadata": {},
     "output_type": "execute_result"
    }
   ],
   "source": [
    "cluster_edges = [('Neural tube','Radial glia'),\n",
    "                 ('Radial glia', 'Neuroblast'),\n",
    "                 ('Radial glia', 'Glioblast'),\n",
    "                 ('Radial glia', 'Oligodendrocyte'),\n",
    "                 ('Radial glia', 'Ependymal'),\n",
    "                 ('Neural crest', 'Mesenchyme'),\n",
    "                 ('Mesenchyme','Fibroblast')]\n",
    "vv.post_analysis(adata,\n",
    "                 'eval',\n",
    "                 ['Discrete VeloVAE','Discrete FullVB'],\n",
    "                 ['dvae','dfullvb'],\n",
    "                 compute_metrics=False,\n",
    "                 genes=gene_plot,\n",
    "                 grid_size=(1,4),\n",
    "                 figure_path=figure_path_base,\n",
    "                 cluster_edges=cluster_edges)"
   ]
  }
 ],
 "metadata": {
  "kernelspec": {
   "display_name": "velo_env",
   "language": "python",
   "name": "velo_env"
  },
  "language_info": {
   "codemirror_mode": {
    "name": "ipython",
    "version": 3
   },
   "file_extension": ".py",
   "mimetype": "text/x-python",
   "name": "python",
   "nbconvert_exporter": "python",
   "pygments_lexer": "ipython3",
   "version": "3.9.0"
  }
 },
 "nbformat": 4,
 "nbformat_minor": 5
}
