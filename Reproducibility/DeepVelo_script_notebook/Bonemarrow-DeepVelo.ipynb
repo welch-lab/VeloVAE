{
 "cells": [
  {
   "cell_type": "code",
   "execution_count": 1,
   "id": "d5bb8125",
   "metadata": {},
   "outputs": [
    {
     "name": "stderr",
     "output_type": "stream",
     "text": [
      "Using backend: pytorch\n"
     ]
    }
   ],
   "source": [
    "import anndata\n",
    "import scvelo as scv\n",
    "import numpy as np\n",
    "from deepvelo.utils import velocity, velocity_confidence, latent_time, update_dict\n",
    "from deepvelo.utils.preprocess import autoset_coeff_s\n",
    "from deepvelo.utils.plot import statplot, compare_plot\n",
    "from deepvelo import train, Constants\n",
    "import os\n",
    "import time"
   ]
  },
  {
   "cell_type": "code",
   "execution_count": 2,
   "id": "3e1f0ef5",
   "metadata": {},
   "outputs": [],
   "source": [
    "dataset = \"Bonemarrow\"\n",
    "root = '/scratch/blaauw_root/blaauw1/gyichen'\n",
    "adata = anndata.read_h5ad(f'{root}/data/{dataset}_pp.h5ad')"
   ]
  },
  {
   "cell_type": "code",
   "execution_count": 3,
   "id": "2578f42e",
   "metadata": {},
   "outputs": [
    {
     "name": "stdout",
     "output_type": "stream",
     "text": [
      "The ratio of spliced reads is 53.6% (less than 70%). Suggest using coeff_s 0.5.\n"
     ]
    }
   ],
   "source": [
    "save_dir = f\"{root}/data/deepvelo/{dataset}\"\n",
    "configs = {\n",
    "    \"name\": \"DeepVelo-Pancreas\", # name of the experiment\n",
    "    \"arch\":{\"args\":{\"pred_unspliced\":True}},\n",
    "    \"loss\": {\"args\": {\"coeff_s\": autoset_coeff_s(adata)}},\n",
    "    \"trainer\": {\"verbosity\": 0, \"save_dir\": save_dir}, # increase verbosity to show training progress\n",
    "}\n",
    "configs = update_dict(Constants.default_configs, configs)"
   ]
  },
  {
   "cell_type": "code",
   "execution_count": 4,
   "id": "f65f2bee",
   "metadata": {},
   "outputs": [
    {
     "name": "stdout",
     "output_type": "stream",
     "text": [
      "computing velocities\n",
      "    finished (0:00:01) --> added \n",
      "    'velocity', velocity vectors for each individual cell (adata.layers)\n",
      "Warning: logging configuration file is not found in logger/logger_config.json.\n",
      "building graph\n"
     ]
    },
    {
     "name": "stderr",
     "output_type": "stream",
     "text": [
      "INFO:train:Beginning training of DeepVelo-Pancreas ...\n"
     ]
    },
    {
     "name": "stdout",
     "output_type": "stream",
     "text": [
      "velo data shape: torch.Size([5028, 2000])\n",
      "velo_mat shape: (5028, 2000)\n",
      "--> added 'velocity' (adata.layers)\n",
      "--> added 'velocity_unspliced' (adata.layers)\n",
      "--> added 'cell_specific_beta' (adata.layers)\n",
      "--> added 'cell_specific_gamma' (adata.layers)\n",
      "--> added 'cell_specific_alpha' (adata.layers)\n"
     ]
    }
   ],
   "source": [
    "t_start = time.time()\n",
    "velocity(adata, mask_zero=False)\n",
    "trainer = train(adata, configs)\n",
    "run_time = time.time() - t_start"
   ]
  },
  {
   "cell_type": "code",
   "execution_count": 5,
   "id": "11762d01",
   "metadata": {},
   "outputs": [
    {
     "name": "stdout",
     "output_type": "stream",
     "text": [
      "computing velocity graph (using 1/32 cores)\n"
     ]
    },
    {
     "data": {
      "application/vnd.jupyter.widget-view+json": {
       "model_id": "c67c9a920a2241b8917a1f65cf4420ea",
       "version_major": 2,
       "version_minor": 0
      },
      "text/plain": [
       "  0%|          | 0/5028 [00:00<?, ?cells/s]"
      ]
     },
     "metadata": {},
     "output_type": "display_data"
    },
    {
     "name": "stdout",
     "output_type": "stream",
     "text": [
      "    finished (0:00:03) --> added \n",
      "    'velocity_graph', sparse matrix with cosine correlations (adata.uns)\n",
      "computing terminal states\n",
      "WARNING: Uncertain or fuzzy root cell identification. Please verify.\n",
      "    identified 1 region of root cells and 2 regions of end points .\n",
      "    finished (0:00:00) --> added\n",
      "    'root_cells', root cells of Markov diffusion process (adata.obs)\n",
      "    'end_points', end points of Markov diffusion process (adata.obs)\n",
      "computing latent time using root_cells as prior\n",
      "    finished (0:00:00) --> added \n",
      "    'latent_time', shared time (adata.obs)\n",
      "Total run time: 18.733998775482178\n"
     ]
    }
   ],
   "source": [
    "latent_time(adata)\n",
    "adata.obs['dv_time'] = adata.obs['latent_time'].to_numpy()\n",
    "del adata.obs['latent_time']\n",
    "adata.uns['dv_run_time']=run_time\n",
    "os.makedirs(save_dir, exist_ok=True)\n",
    "adata.write_h5ad(f'{save_dir}/{dataset}.h5ad')\n",
    "print(f'Total run time: {run_time}')"
   ]
  },
  {
   "cell_type": "code",
   "execution_count": null,
   "id": "70acf822",
   "metadata": {},
   "outputs": [],
   "source": []
  }
 ],
 "metadata": {
  "kernelspec": {
   "display_name": "deepvelo_env",
   "language": "python",
   "name": "deepvelo_env"
  },
  "language_info": {
   "codemirror_mode": {
    "name": "ipython",
    "version": 3
   },
   "file_extension": ".py",
   "mimetype": "text/x-python",
   "name": "python",
   "nbconvert_exporter": "python",
   "pygments_lexer": "ipython3",
   "version": "3.9.16"
  }
 },
 "nbformat": 4,
 "nbformat_minor": 5
}
