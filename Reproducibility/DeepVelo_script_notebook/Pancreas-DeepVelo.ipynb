{
 "cells": [
  {
   "cell_type": "code",
   "execution_count": 1,
   "id": "d5bb8125",
   "metadata": {},
   "outputs": [
    {
     "ename": "OSError",
     "evalue": "libcublas.so.10: cannot open shared object file: No such file or directory",
     "output_type": "error",
     "traceback": [
      "\u001b[0;31m---------------------------------------------------------------------------\u001b[0m",
      "\u001b[0;31mOSError\u001b[0m                                   Traceback (most recent call last)",
      "Cell \u001b[0;32mIn[1], line 4\u001b[0m\n\u001b[1;32m      2\u001b[0m \u001b[38;5;28;01mimport\u001b[39;00m \u001b[38;5;21;01mscvelo\u001b[39;00m \u001b[38;5;28;01mas\u001b[39;00m \u001b[38;5;21;01mscv\u001b[39;00m\n\u001b[1;32m      3\u001b[0m \u001b[38;5;28;01mimport\u001b[39;00m \u001b[38;5;21;01mnumpy\u001b[39;00m \u001b[38;5;28;01mas\u001b[39;00m \u001b[38;5;21;01mnp\u001b[39;00m\n\u001b[0;32m----> 4\u001b[0m \u001b[38;5;28;01mfrom\u001b[39;00m \u001b[38;5;21;01mdeepvelo\u001b[39;00m\u001b[38;5;21;01m.\u001b[39;00m\u001b[38;5;21;01mutils\u001b[39;00m \u001b[38;5;28;01mimport\u001b[39;00m velocity, velocity_confidence, latent_time, update_dict\n\u001b[1;32m      5\u001b[0m \u001b[38;5;28;01mfrom\u001b[39;00m \u001b[38;5;21;01mdeepvelo\u001b[39;00m\u001b[38;5;21;01m.\u001b[39;00m\u001b[38;5;21;01mutils\u001b[39;00m\u001b[38;5;21;01m.\u001b[39;00m\u001b[38;5;21;01mpreprocess\u001b[39;00m \u001b[38;5;28;01mimport\u001b[39;00m autoset_coeff_s\n\u001b[1;32m      6\u001b[0m \u001b[38;5;28;01mfrom\u001b[39;00m \u001b[38;5;21;01mdeepvelo\u001b[39;00m\u001b[38;5;21;01m.\u001b[39;00m\u001b[38;5;21;01mutils\u001b[39;00m\u001b[38;5;21;01m.\u001b[39;00m\u001b[38;5;21;01mplot\u001b[39;00m \u001b[38;5;28;01mimport\u001b[39;00m statplot, compare_plot\n",
      "File \u001b[0;32m/scratch/blaauw_root/blaauw1/gyichen/deepvelo_env/lib/python3.9/site-packages/deepvelo/__init__.py:1\u001b[0m\n\u001b[0;32m----> 1\u001b[0m \u001b[38;5;28;01mfrom\u001b[39;00m \u001b[38;5;21;01m.\u001b[39;00m\u001b[38;5;21;01mtrain\u001b[39;00m \u001b[38;5;28;01mimport\u001b[39;00m \u001b[38;5;241m*\u001b[39m\n",
      "File \u001b[0;32m/scratch/blaauw_root/blaauw1/gyichen/deepvelo_env/lib/python3.9/site-packages/deepvelo/train.py:6\u001b[0m\n\u001b[1;32m      3\u001b[0m \u001b[38;5;28;01mimport\u001b[39;00m \u001b[38;5;21;01mnumpy\u001b[39;00m \u001b[38;5;28;01mas\u001b[39;00m \u001b[38;5;21;01mnp\u001b[39;00m\n\u001b[1;32m      5\u001b[0m \u001b[38;5;28;01mimport\u001b[39;00m \u001b[38;5;21;01mtorch\u001b[39;00m\n\u001b[0;32m----> 6\u001b[0m \u001b[38;5;28;01mfrom\u001b[39;00m \u001b[38;5;21;01mdeepvelo\u001b[39;00m\u001b[38;5;21;01m.\u001b[39;00m\u001b[38;5;21;01mtrainer\u001b[39;00m \u001b[38;5;28;01mimport\u001b[39;00m Trainer\n\u001b[1;32m      7\u001b[0m \u001b[38;5;28;01mfrom\u001b[39;00m \u001b[38;5;21;01mscvelo\u001b[39;00m \u001b[38;5;28;01mimport\u001b[39;00m logging \u001b[38;5;28;01mas\u001b[39;00m logg\n\u001b[1;32m      9\u001b[0m \u001b[38;5;28;01mimport\u001b[39;00m \u001b[38;5;21;01mdeepvelo\u001b[39;00m\u001b[38;5;21;01m.\u001b[39;00m\u001b[38;5;21;01mdata_loader\u001b[39;00m\u001b[38;5;21;01m.\u001b[39;00m\u001b[38;5;21;01mdata_loaders\u001b[39;00m \u001b[38;5;28;01mas\u001b[39;00m \u001b[38;5;21;01mmodule_data\u001b[39;00m\n",
      "File \u001b[0;32m/scratch/blaauw_root/blaauw1/gyichen/deepvelo_env/lib/python3.9/site-packages/deepvelo/trainer/__init__.py:1\u001b[0m\n\u001b[0;32m----> 1\u001b[0m \u001b[38;5;28;01mfrom\u001b[39;00m \u001b[38;5;21;01m.\u001b[39;00m\u001b[38;5;21;01mtrainer\u001b[39;00m \u001b[38;5;28;01mimport\u001b[39;00m \u001b[38;5;241m*\u001b[39m\n",
      "File \u001b[0;32m/scratch/blaauw_root/blaauw1/gyichen/deepvelo_env/lib/python3.9/site-packages/deepvelo/trainer/trainer.py:5\u001b[0m\n\u001b[1;32m      3\u001b[0m \u001b[38;5;28;01mfrom\u001b[39;00m \u001b[38;5;21;01mnumpy\u001b[39;00m \u001b[38;5;28;01mimport\u001b[39;00m inf\n\u001b[1;32m      4\u001b[0m \u001b[38;5;28;01mimport\u001b[39;00m \u001b[38;5;21;01mtorch\u001b[39;00m\n\u001b[0;32m----> 5\u001b[0m \u001b[38;5;28;01mimport\u001b[39;00m \u001b[38;5;21;01mdgl\u001b[39;00m\n\u001b[1;32m      7\u001b[0m \u001b[38;5;66;03m# from torchvision.utils import make_grid\u001b[39;00m\n\u001b[1;32m      8\u001b[0m \u001b[38;5;28;01mfrom\u001b[39;00m \u001b[38;5;21;01mdeepvelo\u001b[39;00m\u001b[38;5;21;01m.\u001b[39;00m\u001b[38;5;21;01mbase\u001b[39;00m \u001b[38;5;28;01mimport\u001b[39;00m BaseTrainer\n",
      "File \u001b[0;32m/scratch/blaauw_root/blaauw1/gyichen/deepvelo_env/lib/python3.9/site-packages/dgl/__init__.py:13\u001b[0m\n\u001b[1;32m     10\u001b[0m \u001b[38;5;28;01mimport\u001b[39;00m \u001b[38;5;21;01msocket\u001b[39;00m\n\u001b[1;32m     12\u001b[0m \u001b[38;5;66;03m# Should import backend before importing anything else\u001b[39;00m\n\u001b[0;32m---> 13\u001b[0m \u001b[38;5;28;01mfrom\u001b[39;00m \u001b[38;5;21;01m.\u001b[39;00m\u001b[38;5;21;01mbackend\u001b[39;00m \u001b[38;5;28;01mimport\u001b[39;00m load_backend, backend_name\n\u001b[1;32m     15\u001b[0m \u001b[38;5;28;01mfrom\u001b[39;00m \u001b[38;5;21;01m.\u001b[39;00m \u001b[38;5;28;01mimport\u001b[39;00m function\n\u001b[1;32m     16\u001b[0m \u001b[38;5;28;01mfrom\u001b[39;00m \u001b[38;5;21;01m.\u001b[39;00m \u001b[38;5;28;01mimport\u001b[39;00m contrib\n",
      "File \u001b[0;32m/scratch/blaauw_root/blaauw1/gyichen/deepvelo_env/lib/python3.9/site-packages/dgl/backend/__init__.py:95\u001b[0m\n\u001b[1;32m     91\u001b[0m         set_default_backend(\u001b[38;5;124m'\u001b[39m\u001b[38;5;124mpytorch\u001b[39m\u001b[38;5;124m'\u001b[39m)\n\u001b[1;32m     92\u001b[0m         \u001b[38;5;28;01mreturn\u001b[39;00m \u001b[38;5;124m'\u001b[39m\u001b[38;5;124mpytorch\u001b[39m\u001b[38;5;124m'\u001b[39m\n\u001b[0;32m---> 95\u001b[0m \u001b[43mload_backend\u001b[49m\u001b[43m(\u001b[49m\u001b[43mget_preferred_backend\u001b[49m\u001b[43m(\u001b[49m\u001b[43m)\u001b[49m\u001b[43m)\u001b[49m\n\u001b[1;32m     98\u001b[0m \u001b[38;5;28;01mdef\u001b[39;00m \u001b[38;5;21mis_enabled\u001b[39m(api):\n\u001b[1;32m     99\u001b[0m \u001b[38;5;250m    \u001b[39m\u001b[38;5;124;03m\"\"\"Return true if the api is enabled by the current backend.\u001b[39;00m\n\u001b[1;32m    100\u001b[0m \n\u001b[1;32m    101\u001b[0m \u001b[38;5;124;03m    Parameters\u001b[39;00m\n\u001b[0;32m   (...)\u001b[0m\n\u001b[1;32m    109\u001b[0m \u001b[38;5;124;03m        True if the API is enabled by the current backend.\u001b[39;00m\n\u001b[1;32m    110\u001b[0m \u001b[38;5;124;03m    \"\"\"\u001b[39;00m\n",
      "File \u001b[0;32m/scratch/blaauw_root/blaauw1/gyichen/deepvelo_env/lib/python3.9/site-packages/dgl/backend/__init__.py:41\u001b[0m, in \u001b[0;36mload_backend\u001b[0;34m(mod_name)\u001b[0m\n\u001b[1;32m     38\u001b[0m \u001b[38;5;28;01melse\u001b[39;00m:\n\u001b[1;32m     39\u001b[0m     \u001b[38;5;28;01mraise\u001b[39;00m \u001b[38;5;167;01mNotImplementedError\u001b[39;00m(\u001b[38;5;124m'\u001b[39m\u001b[38;5;124mUnsupported backend: \u001b[39m\u001b[38;5;132;01m%s\u001b[39;00m\u001b[38;5;124m'\u001b[39m \u001b[38;5;241m%\u001b[39m mod_name)\n\u001b[0;32m---> 41\u001b[0m \u001b[38;5;28;01mfrom\u001b[39;00m \u001b[38;5;21;01m.\u001b[39;00m\u001b[38;5;21;01m.\u001b[39;00m\u001b[38;5;21;01m_ffi\u001b[39;00m\u001b[38;5;21;01m.\u001b[39;00m\u001b[38;5;21;01mbase\u001b[39;00m \u001b[38;5;28;01mimport\u001b[39;00m load_tensor_adapter \u001b[38;5;66;03m# imports DGL C library\u001b[39;00m\n\u001b[1;32m     42\u001b[0m version \u001b[38;5;241m=\u001b[39m mod\u001b[38;5;241m.\u001b[39m__version__\n\u001b[1;32m     43\u001b[0m load_tensor_adapter(mod_name, version)\n",
      "File \u001b[0;32m/scratch/blaauw_root/blaauw1/gyichen/deepvelo_env/lib/python3.9/site-packages/dgl/_ffi/base.py:44\u001b[0m\n\u001b[1;32m     42\u001b[0m __version__ \u001b[38;5;241m=\u001b[39m libinfo\u001b[38;5;241m.\u001b[39m__version__\n\u001b[1;32m     43\u001b[0m \u001b[38;5;66;03m# library instance of nnvm\u001b[39;00m\n\u001b[0;32m---> 44\u001b[0m _LIB, _LIB_NAME, _DIR_NAME \u001b[38;5;241m=\u001b[39m \u001b[43m_load_lib\u001b[49m\u001b[43m(\u001b[49m\u001b[43m)\u001b[49m\n\u001b[1;32m     46\u001b[0m \u001b[38;5;66;03m# The FFI mode of DGL\u001b[39;00m\n\u001b[1;32m     47\u001b[0m _FFI_MODE \u001b[38;5;241m=\u001b[39m os\u001b[38;5;241m.\u001b[39menviron\u001b[38;5;241m.\u001b[39mget(\u001b[38;5;124m\"\u001b[39m\u001b[38;5;124mDGL_FFI\u001b[39m\u001b[38;5;124m\"\u001b[39m, \u001b[38;5;124m\"\u001b[39m\u001b[38;5;124mauto\u001b[39m\u001b[38;5;124m\"\u001b[39m)\n",
      "File \u001b[0;32m/scratch/blaauw_root/blaauw1/gyichen/deepvelo_env/lib/python3.9/site-packages/dgl/_ffi/base.py:34\u001b[0m, in \u001b[0;36m_load_lib\u001b[0;34m()\u001b[0m\n\u001b[1;32m     32\u001b[0m \u001b[38;5;250m\u001b[39m\u001b[38;5;124;03m\"\"\"Load libary by searching possible path.\"\"\"\u001b[39;00m\n\u001b[1;32m     33\u001b[0m lib_path \u001b[38;5;241m=\u001b[39m libinfo\u001b[38;5;241m.\u001b[39mfind_lib_path()\n\u001b[0;32m---> 34\u001b[0m lib \u001b[38;5;241m=\u001b[39m \u001b[43mctypes\u001b[49m\u001b[38;5;241;43m.\u001b[39;49m\u001b[43mCDLL\u001b[49m\u001b[43m(\u001b[49m\u001b[43mlib_path\u001b[49m\u001b[43m[\u001b[49m\u001b[38;5;241;43m0\u001b[39;49m\u001b[43m]\u001b[49m\u001b[43m)\u001b[49m\n\u001b[1;32m     35\u001b[0m dirname \u001b[38;5;241m=\u001b[39m os\u001b[38;5;241m.\u001b[39mpath\u001b[38;5;241m.\u001b[39mdirname(lib_path[\u001b[38;5;241m0\u001b[39m])\n\u001b[1;32m     36\u001b[0m basename \u001b[38;5;241m=\u001b[39m os\u001b[38;5;241m.\u001b[39mpath\u001b[38;5;241m.\u001b[39mbasename(lib_path[\u001b[38;5;241m0\u001b[39m])\n",
      "File \u001b[0;32m/scratch/blaauw_root/blaauw1/gyichen/deepvelo_env/lib/python3.9/ctypes/__init__.py:374\u001b[0m, in \u001b[0;36mCDLL.__init__\u001b[0;34m(self, name, mode, handle, use_errno, use_last_error, winmode)\u001b[0m\n\u001b[1;32m    371\u001b[0m \u001b[38;5;28mself\u001b[39m\u001b[38;5;241m.\u001b[39m_FuncPtr \u001b[38;5;241m=\u001b[39m _FuncPtr\n\u001b[1;32m    373\u001b[0m \u001b[38;5;28;01mif\u001b[39;00m handle \u001b[38;5;129;01mis\u001b[39;00m \u001b[38;5;28;01mNone\u001b[39;00m:\n\u001b[0;32m--> 374\u001b[0m     \u001b[38;5;28mself\u001b[39m\u001b[38;5;241m.\u001b[39m_handle \u001b[38;5;241m=\u001b[39m \u001b[43m_dlopen\u001b[49m\u001b[43m(\u001b[49m\u001b[38;5;28;43mself\u001b[39;49m\u001b[38;5;241;43m.\u001b[39;49m\u001b[43m_name\u001b[49m\u001b[43m,\u001b[49m\u001b[43m \u001b[49m\u001b[43mmode\u001b[49m\u001b[43m)\u001b[49m\n\u001b[1;32m    375\u001b[0m \u001b[38;5;28;01melse\u001b[39;00m:\n\u001b[1;32m    376\u001b[0m     \u001b[38;5;28mself\u001b[39m\u001b[38;5;241m.\u001b[39m_handle \u001b[38;5;241m=\u001b[39m handle\n",
      "\u001b[0;31mOSError\u001b[0m: libcublas.so.10: cannot open shared object file: No such file or directory"
     ]
    }
   ],
   "source": [
    "import anndata\n",
    "import scvelo as scv\n",
    "import numpy as np\n",
    "from deepvelo.utils import velocity, velocity_confidence, latent_time, update_dict\n",
    "from deepvelo.utils.preprocess import autoset_coeff_s\n",
    "from deepvelo.utils.plot import statplot, compare_plot\n",
    "from deepvelo import train, Constants\n",
    "import os\n",
    "import time"
   ]
  },
  {
   "cell_type": "code",
   "execution_count": 2,
   "id": "3e1f0ef5",
   "metadata": {},
   "outputs": [],
   "source": [
    "dataset = \"Pancreas\"\n",
    "root = '/scratch/blaauw_root/blaauw1/gyichen'\n",
    "adata = anndata.read_h5ad(f'{root}/data/{dataset}_pp.h5ad')"
   ]
  },
  {
   "cell_type": "code",
   "execution_count": 3,
   "id": "2578f42e",
   "metadata": {},
   "outputs": [
    {
     "name": "stdout",
     "output_type": "stream",
     "text": [
      "The ratio of spliced reads is 83.2% (between 70% and 85%). Suggest using coeff_s 0.75.\n"
     ]
    }
   ],
   "source": [
    "save_dir = f\"{root}/data/deepvelo\"\n",
    "configs = {\n",
    "    \"name\": \"DeepVelo-Pancreas\", # name of the experiment\n",
    "    \"arch\":{\"args\":{\"pred_unspliced\":True}},\n",
    "    \"loss\": {\"args\": {\"coeff_s\": autoset_coeff_s(adata)}},\n",
    "    \"trainer\": {\"verbosity\": 0, \"save_dir\": save_dir}, # increase verbosity to show training progress\n",
    "}\n",
    "configs = update_dict(Constants.default_configs, configs)"
   ]
  },
  {
   "cell_type": "code",
   "execution_count": 4,
   "id": "f65f2bee",
   "metadata": {},
   "outputs": [
    {
     "name": "stdout",
     "output_type": "stream",
     "text": [
      "computing velocities\n",
      "    finished (0:00:01) --> added \n",
      "    'velocity', velocity vectors for each individual cell (adata.layers)\n",
      "Warning: logging configuration file is not found in logger/logger_config.json.\n",
      "building graph\n"
     ]
    },
    {
     "name": "stderr",
     "output_type": "stream",
     "text": [
      "INFO:train:Beginning training of DeepVelo-Pancreas ...\n"
     ]
    },
    {
     "name": "stdout",
     "output_type": "stream",
     "text": [
      "velo data shape: torch.Size([3696, 2000])\n",
      "velo_mat shape: (3696, 2000)\n",
      "--> added 'velocity' (adata.layers)\n",
      "--> added 'velocity_unspliced' (adata.layers)\n",
      "--> added 'cell_specific_beta' (adata.layers)\n",
      "--> added 'cell_specific_gamma' (adata.layers)\n",
      "--> added 'cell_specific_alpha' (adata.layers)\n"
     ]
    }
   ],
   "source": [
    "t_start = time.time()\n",
    "velocity(adata, mask_zero=False)\n",
    "trainer = train(adata, configs)\n",
    "run_time = time.time() - t_start"
   ]
  },
  {
   "cell_type": "code",
   "execution_count": 6,
   "id": "11762d01",
   "metadata": {},
   "outputs": [
    {
     "name": "stdout",
     "output_type": "stream",
     "text": [
      "computing latent time using root_cells as prior\n",
      "    finished (0:00:00) --> added \n",
      "    'latent_time', shared time (adata.obs)\n",
      "Total run time: 129.47484827041626\n"
     ]
    }
   ],
   "source": [
    "latent_time(adata)\n",
    "adata.obs['dv_time'] = adata.obs['latent_time'].to_numpy()\n",
    "del adata.obs['latent_time']\n",
    "adata.uns['dv_run_time']=run_time\n",
    "os.makedirs(save_dir, exist_ok=True)\n",
    "adata.write_h5ad(f'{save_dir}/{dataset}.h5ad')\n",
    "print(f'Total run time: {run_time}')"
   ]
  },
  {
   "cell_type": "markdown",
   "id": "3ec9b475",
   "metadata": {},
   "source": [
    "# Plotting"
   ]
  },
  {
   "cell_type": "code",
   "execution_count": null,
   "id": "8e041f4a",
   "metadata": {},
   "outputs": [],
   "source": [
    "dataset = 'Pancreas'\n",
    "adata = anndata.read_h5ad(f\"{root}/data/deepvelo/{dataset}/{dataset}_out.h5ad\")"
   ]
  },
  {
   "cell_type": "code",
   "execution_count": null,
   "id": "e1c9c413",
   "metadata": {},
   "outputs": [],
   "source": [
    "scv.pl.velocity_embedding_stream(adata,\n",
    "                                 basis='umap',\n",
    "                                 legend_fontsize=9,\n",
    "                                 dpi=150)"
   ]
  },
  {
   "cell_type": "code",
   "execution_count": null,
   "id": "7ad0d8a1",
   "metadata": {},
   "outputs": [],
   "source": [
    "scv.pl.scatter(adata,\n",
    "               color='dv_time',\n",
    "               dpi=150,\n",
    "               color_map='gnuplot')"
   ]
  }
 ],
 "metadata": {
  "kernelspec": {
   "display_name": "deepvelo_env",
   "language": "python",
   "name": "deepvelo_env"
  },
  "language_info": {
   "codemirror_mode": {
    "name": "ipython",
    "version": 3
   },
   "file_extension": ".py",
   "mimetype": "text/x-python",
   "name": "python",
   "nbconvert_exporter": "python",
   "pygments_lexer": "ipython3",
   "version": "3.9.16"
  }
 },
 "nbformat": 4,
 "nbformat_minor": 5
}
